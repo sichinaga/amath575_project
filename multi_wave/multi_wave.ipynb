{
 "cells": [
  {
   "cell_type": "code",
   "execution_count": 2,
   "metadata": {},
   "outputs": [],
   "source": [
    "import numpy as np\n",
    "from scipy.io import loadmat\n",
    "import pysindy as ps\n",
    "import matplotlib.pyplot as plt\n",
    "\n",
    "from pysindy.differentiation import SpectralDerivative"
   ]
  },
  {
   "cell_type": "code",
   "execution_count": 3,
   "metadata": {},
   "outputs": [],
   "source": [
    "wave1=np.loadtxt('wave1.txt')\n",
    "wave2=np.loadtxt('wave2.txt')[::64]\n",
    "wave3=np.loadtxt('wave3.txt')[::4]\n",
    "wave4=np.loadtxt('wave4.txt')\n",
    "\n",
    "c1= 1.2065000000000001e-01\n",
    "c2= 1.4965637499999945e-01\n",
    "c3= 1.3982499999999973e-01\n",
    "c4= 1.2780000000000002e-01"
   ]
  },
  {
   "cell_type": "code",
   "execution_count": 4,
   "metadata": {},
   "outputs": [
    {
     "data": {
      "text/plain": [
       "[<matplotlib.lines.Line2D at 0x7fe7653cc1f0>]"
      ]
     },
     "execution_count": 4,
     "metadata": {},
     "output_type": "execute_result"
    },
    {
     "data": {
      "image/png": "[encoded data removed]",
      "text/plain": [
       "<Figure size 432x288 with 1 Axes>"
      ]
     },
     "metadata": {
      "needs_background": "light"
     },
     "output_type": "display_data"
    }
   ],
   "source": [
    "plt.plot(wave2[:,0],wave2[:,2])"
   ]
  },
  {
   "cell_type": "code",
   "execution_count": 33,
   "metadata": {},
   "outputs": [],
   "source": [
    "def get_diffs(wave,c):\n",
    "    R=wave[:,0]\n",
    "    x=wave[:,1]\n",
    "    Y=wave[:,2]\n",
    "\n",
    "    sd1=SpectralDerivative(d=1)\n",
    "    sd2=SpectralDerivative(d=2)\n",
    "    sd3=SpectralDerivative(d=3)\n",
    "\n",
    "    Yd1=sd1(Y,R)\n",
    "    Yd2=sd2(Y,R)\n",
    "    Yd3=sd3(Y,R)\n",
    "\n",
    "    Ut=-c*Yd1\n",
    "    Ux=Yd1\n",
    "    Uxx=Yd2\n",
    "    Uxxx=Yd3\n",
    "    U=Y\n",
    "\n",
    "    Uxdiffs=np.vstack([U,Ux,Uxx,Uxxx]).T\n",
    "    return Ut,Uxdiffs\n",
    "\n",
    "Ut,Xdiffs=get_diffs(wave2,c2)\n",
    "\n",
    "def get_equation(\n",
    "        Ut,\n",
    "        Uxdiffs,\n",
    "        optimizer,\n",
    "        degree=2,\n",
    "        num_digits=4\n",
    "        ):\n",
    "    feature_library=ps.PolynomialLibrary(degree=degree)\n",
    "    poly=feature_library.fit_transform(\n",
    "        Uxdiffs\n",
    "    )\n",
    "    names=feature_library.get_feature_names(['(U)','(Ux)','(Uxx)','(Uxxx)'])\n",
    "\n",
    "    fitted=optimizer.fit(\n",
    "        poly,Ut\n",
    "    )\n",
    "\n",
    "    eqn=\"Ut = \"\n",
    "    extra=\"\"\n",
    "\n",
    "    for coef,term in zip(np.around(fitted.coef_,num_digits)[0],names):\n",
    "        if term =='1':\n",
    "            extra+=f\"{coef}\"\n",
    "        if coef!=0:\n",
    "            if coef>0:\n",
    "                extra+=f\" + {coef} * {term}\"\n",
    "            else:\n",
    "                extra+=f\" - {-1*coef} * {term}\"\n",
    "    eqn=eqn+extra\n",
    "\n",
    "    r2=1-np.mean((Ut-poly@(fitted.coef_[0]))**2)/np.var(Ut)\n",
    "    print(r2)\n",
    "    return eqn\n"
   ]
  },
  {
   "cell_type": "code",
   "execution_count": 34,
   "metadata": {},
   "outputs": [],
   "source": [
    "waves=[wave1,wave2,wave3,wave4]\n",
    "c_vals=[c1,c2,c3,c4]\n",
    "\n",
    "processed=[\n",
    "    get_diffs(wave,c) for wave,c in zip(waves,c_vals)\n",
    "]\n",
    "Ut_vals=[p[0] for p in processed]\n",
    "Xdiff_vals=[p[1] for p in processed]"
   ]
  },
  {
   "cell_type": "code",
   "execution_count": 35,
   "metadata": {},
   "outputs": [],
   "source": [
    "Ut_total=np.hstack(Ut_vals)\n",
    "\n",
    "Xdiffs_total = np.vstack(Xdiff_vals)"
   ]
  },
  {
   "cell_type": "code",
   "execution_count": 49,
   "metadata": {},
   "outputs": [
    {
     "name": "stdout",
     "output_type": "stream",
     "text": [
      "0.9981695745701795\n",
      "Ut = -0.0 - 0.1434 * (Ux)\n",
      "0.8896348008868367\n",
      "Ut = -0.0 - 0.1433641175 * (Ux) - 0.0011282381 * (U) (Ux) - 0.0001711525 * (Ux) (Uxx)\n"
     ]
    }
   ],
   "source": [
    "optimizer=ps.SR3(threshold=1e-3,nu=1)\n",
    "\n",
    "print(get_equation(Ut_total,Xdiffs_total,optimizer=optimizer))\n",
    "\n",
    "optimizer=ps.SR3(threshold=1e-4,nu=1)\n",
    "\n",
    "print(get_equation(Ut_total,Xdiffs_total,optimizer=optimizer,num_digits=10))"
   ]
  },
  {
   "cell_type": "code",
   "execution_count": 31,
   "metadata": {},
   "outputs": [
    {
     "name": "stdout",
     "output_type": "stream",
     "text": [
      "0.9993862927197226\n",
      "Ut = -0.0 - 0.1434 * (Ux) - 0.0011 * (U) (Ux) - 0.0002 * (Ux) (Uxx)\n"
     ]
    }
   ],
   "source": [
    "optimizer=ps.SR3(threshold=0,nu=1)\n",
    "\n",
    "print(get_equation(Ut_total,Xdiffs_total,optimizer=optimizer))"
   ]
  },
  {
   "cell_type": "code",
   "execution_count": 52,
   "metadata": {},
   "outputs": [
    {
     "name": "stdout",
     "output_type": "stream",
     "text": [
      "0.9993036543541951\n",
      "Ut = 0.0 + 1.2302372e-09 * (U) - 0.1410135508099212 * (Ux) + 6.4549176e-09 * (Uxxx) - 0.0009479921375157 * (U) (Ux) - 1.492547e-10 * (U) (Uxx) - 1.5362686499e-06 * (U) (Uxxx) - 1.4732891e-09 * (Ux)^2 - 0.0002362799577428 * (Ux) (Uxx) - 2.036862e-10 * (Uxx) (Uxxx)\n"
     ]
    }
   ],
   "source": [
    "optimizer=ps.STLSQ(threshold=1e-10)\n",
    "\n",
    "print(get_equation(Ut_total,Xdiffs_total,optimizer=optimizer,num_digits=16))"
   ]
  },
  {
   "cell_type": "code",
   "execution_count": 55,
   "metadata": {},
   "outputs": [
    {
     "name": "stdout",
     "output_type": "stream",
     "text": [
      "0.9989617905782701\n",
      "Ut = 0.0 - 0.1467858779682037 * (Ux) - 0.0021322981552127 * (U) (Ux)\n"
     ]
    }
   ],
   "source": [
    "optimizer=ps.STLSQ(threshold=1e-4)\n",
    "\n",
    "print(get_equation(Ut_total,Xdiffs_total,optimizer=optimizer,num_digits=16))"
   ]
  },
  {
   "cell_type": "code",
   "execution_count": 32,
   "metadata": {},
   "outputs": [
    {
     "name": "stdout",
     "output_type": "stream",
     "text": [
      "0.9989897062649827\n",
      "Ut = 0.0 - 0.1476 * (Ux)\n"
     ]
    }
   ],
   "source": [
    "optimizer=ps.FROLS(\n",
    "    max_iter=1,\n",
    "    alpha=0\n",
    ")\n",
    "\n",
    "print(get_equation(Ut_total,Xdiffs_total,optimizer=optimizer))"
   ]
  },
  {
   "cell_type": "code",
   "execution_count": 10,
   "metadata": {},
   "outputs": [
    {
     "data": {
      "text/plain": [
       "[<matplotlib.lines.Line2D at 0x7fe764adb400>]"
      ]
     },
     "execution_count": 10,
     "metadata": {},
     "output_type": "execute_result"
    },
    {
     "data": {
      "image/png": "[encoded data removed]",
      "text/plain": [
       "<Figure size 432x288 with 1 Axes>"
      ]
     },
     "metadata": {
      "needs_background": "light"
     },
     "output_type": "display_data"
    }
   ],
   "source": [
    "plt.plot(wave1[:,0],wave1[:,2])\n",
    "plt.plot(wave2[:,0],wave2[:,2])"
   ]
  },
  {
   "cell_type": "code",
   "execution_count": 11,
   "metadata": {},
   "outputs": [
    {
     "data": {
      "text/plain": [
       "0.8781699349343971"
      ]
     },
     "execution_count": 11,
     "metadata": {},
     "output_type": "execute_result"
    }
   ],
   "source": [
    "custom_features=np.vstack([\n",
    "    Xdiffs_total[:,0]*Xdiffs_total[:,1],\n",
    "    Xdiffs_total[:,3],\n",
    "]).T\n",
    "\n",
    "optimizer=ps.STLSQ(threshold=0.0,alpha=0)\n",
    "\n",
    "fitted=optimizer.fit(custom_features,Ut_total)\n",
    "\n",
    "C=fitted.coef_[0]\n",
    "\n",
    "1-np.mean((custom_features@C-Ut_total)**2)/np.var(Ut_total)"
   ]
  },
  {
   "cell_type": "code",
   "execution_count": 342,
   "metadata": {},
   "outputs": [
    {
     "data": {
      "text/plain": [
       "4096.0"
      ]
     },
     "execution_count": 342,
     "metadata": {},
     "output_type": "execute_result"
    }
   ],
   "source": [
    "16384/4"
   ]
  },
  {
   "cell_type": "code",
   "execution_count": null,
   "metadata": {},
   "outputs": [],
   "source": []
  },
  {
   "cell_type": "code",
   "execution_count": 329,
   "metadata": {},
   "outputs": [
    {
     "data": {
      "text/plain": [
       "array([[-5.32144362e-17,  9.49794925e-04]])"
      ]
     },
     "execution_count": 329,
     "metadata": {},
     "output_type": "execute_result"
    }
   ],
   "source": [
    "C"
   ]
  }
 ],
 "metadata": {
  "kernelspec": {
   "display_name": "base",
   "language": "python",
   "name": "python3"
  },
  "language_info": {
   "codemirror_mode": {
    "name": "ipython",
    "version": 3
   },
   "file_extension": ".py",
   "mimetype": "text/x-python",
   "name": "python",
   "nbconvert_exporter": "python",
   "pygments_lexer": "ipython3",
   "version": "3.9.12"
  },
  "orig_nbformat": 4
 },
 "nbformat": 4,
 "nbformat_minor": 2
}
