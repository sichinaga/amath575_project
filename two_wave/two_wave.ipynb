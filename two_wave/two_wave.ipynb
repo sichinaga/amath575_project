{
 "cells": [
  {
   "cell_type": "code",
   "execution_count": 1,
   "metadata": {},
   "outputs": [],
   "source": [
    "import numpy as np\n",
    "from scipy.io import loadmat\n",
    "import pysindy as ps\n",
    "import matplotlib.pyplot as plt\n",
    "\n",
    "from pysindy.differentiation import SpectralDerivative"
   ]
  },
  {
   "cell_type": "code",
   "execution_count": 2,
   "metadata": {},
   "outputs": [],
   "source": [
    "wave1=np.loadtxt('wave1.txt')\n",
    "wave2=np.loadtxt('wave2.txt')\n",
    "\n",
    "c1= 4.6000000000000002e-01\n",
    "c2= 4.6500000000000002e-01"
   ]
  },
  {
   "cell_type": "code",
   "execution_count": 3,
   "metadata": {},
   "outputs": [],
   "source": [
    "def get_diffs(wave,c):\n",
    "    R=wave[:,0]\n",
    "    x=wave[:,1]\n",
    "    Y=wave[:,2]\n",
    "\n",
    "    sd1=SpectralDerivative(d=1)\n",
    "    sd2=SpectralDerivative(d=2)\n",
    "    sd3=SpectralDerivative(d=3)\n",
    "\n",
    "    Yd1=sd1(Y,R)\n",
    "    Yd2=sd2(Y,R)\n",
    "    Yd3=sd3(Y,R)\n",
    "\n",
    "    Ut=-c*Yd1\n",
    "    Ux=Yd1\n",
    "    Uxx=Yd2\n",
    "    Uxxx=Yd3\n",
    "    U=Y\n",
    "\n",
    "    Uxdiffs=np.vstack([U,Ux,Uxx,Uxxx]).T\n",
    "    return Ut,Uxdiffs\n",
    "\n",
    "Ut,Xdiffs=get_diffs(wave2,c2)\n",
    "\n",
    "def get_equation(\n",
    "        Ut,\n",
    "        Uxdiffs,\n",
    "        optimizer,\n",
    "        degree=2,\n",
    "        ):\n",
    "    feature_library=ps.PolynomialLibrary(degree=degree)\n",
    "    poly=feature_library.fit_transform(\n",
    "        Uxdiffs\n",
    "    )\n",
    "    names=feature_library.get_feature_names(['(U)','(Ux)','(Uxx)','(Uxxx)'])\n",
    "\n",
    "    fitted=optimizer.fit(\n",
    "        poly,Ut\n",
    "    )\n",
    "\n",
    "    eqn=\"Ut = \"\n",
    "    extra=\"\"\n",
    "\n",
    "    for coef,term in zip(np.around(fitted.coef_,4)[0],names):\n",
    "        if term =='1':\n",
    "            extra+=f\"{coef}\"\n",
    "        if coef!=0:\n",
    "            if coef>0:\n",
    "                extra+=f\" + {coef} * {term}\"\n",
    "            else:\n",
    "                extra+=f\" - {-1*coef} * {term}\"\n",
    "    eqn=eqn+extra\n",
    "\n",
    "    r2=1-np.mean((Ut-poly@(fitted.coef_[0]))**2)/np.var(Ut)\n",
    "    print(r2)\n",
    "    return eqn\n"
   ]
  },
  {
   "cell_type": "code",
   "execution_count": 4,
   "metadata": {},
   "outputs": [
    {
     "name": "stdout",
     "output_type": "stream",
     "text": [
      "1.0\n",
      "Ut = 0.0 - 0.46 * (Ux)\n",
      "1.0\n",
      "Ut = 0.0 - 0.465 * (Ux)\n"
     ]
    }
   ],
   "source": [
    "optimizer=ps.STLSQ(threshold=0.001,alpha=0)\n",
    "\n",
    "Ut1,Xdiffs1=get_diffs(wave1,c1)\n",
    "\n",
    "print(get_equation(Ut1,Xdiffs1,optimizer))\n",
    "\n",
    "Ut2,Xdiffs2=get_diffs(wave2,c2)\n",
    "\n",
    "print(get_equation(Ut2,Xdiffs2,optimizer))"
   ]
  },
  {
   "cell_type": "code",
   "execution_count": 278,
   "metadata": {},
   "outputs": [],
   "source": [
    "Ut_total=np.hstack([Ut1,Ut2])\n",
    "\n",
    "Xdiffs_total = np.vstack([Xdiffs1,Xdiffs2])"
   ]
  },
  {
   "cell_type": "code",
   "execution_count": 292,
   "metadata": {},
   "outputs": [
    {
     "name": "stdout",
     "output_type": "stream",
     "text": [
      "0.9913042011989596\n",
      "Ut = 0.0 - 0.4738 * (Ux) + 1.2012 * (U) (Ux)\n"
     ]
    }
   ],
   "source": []
  },
  {
   "cell_type": "code",
   "execution_count": 293,
   "metadata": {},
   "outputs": [
    {
     "name": "stdout",
     "output_type": "stream",
     "text": [
      "0.9913042011989596\n",
      "Ut = 0.0 - 0.4738 * (Ux) + 1.2012 * (U) (Ux)\n"
     ]
    }
   ],
   "source": [
    "optimizer=ps.SR3(threshold=0.1,nu=0.001)\n",
    "\n",
    "print(get_equation(Ut_total,Xdiffs_total,optimizer=optimizer))"
   ]
  },
  {
   "cell_type": "code",
   "execution_count": 295,
   "metadata": {},
   "outputs": [
    {
     "name": "stdout",
     "output_type": "stream",
     "text": [
      "0.9999711432356039\n",
      "Ut = 0.0 - 0.4628 * (Ux)\n"
     ]
    }
   ],
   "source": [
    "optimizer=ps.FROLS(\n",
    "    max_iter=1,\n",
    "    alpha=0\n",
    ")\n",
    "\n",
    "print(get_equation(Ut_total,Xdiffs_total,optimizer=optimizer))"
   ]
  },
  {
   "cell_type": "code",
   "execution_count": 298,
   "metadata": {},
   "outputs": [
    {
     "data": {
      "text/plain": [
       "[<matplotlib.lines.Line2D at 0x7fd48dfcb6d0>]"
      ]
     },
     "execution_count": 298,
     "metadata": {},
     "output_type": "execute_result"
    },
    {
     "data": {
      "image/png": "[encoded data removed]",
      "text/plain": [
       "<Figure size 432x288 with 1 Axes>"
      ]
     },
     "metadata": {
      "needs_background": "light"
     },
     "output_type": "display_data"
    }
   ],
   "source": [
    "plt.plot(wave1[:,0],wave1[:,2])\n",
    "plt.plot(wave2[:,0],wave2[:,2])"
   ]
  },
  {
   "cell_type": "code",
   "execution_count": 299,
   "metadata": {},
   "outputs": [
    {
     "data": {
      "text/plain": [
       "[<matplotlib.lines.Line2D at 0x7fd48e285490>]"
      ]
     },
     "execution_count": 299,
     "metadata": {},
     "output_type": "execute_result"
    },
    {
     "data": {
      "image/png": "[encoded data removed]",
      "text/plain": [
       "<Figure size 432x288 with 1 Axes>"
      ]
     },
     "metadata": {
      "needs_background": "light"
     },
     "output_type": "display_data"
    }
   ],
   "source": [
    "plt.plot(wave1[:,0],wave2[:,2]-wave1[:,2])\n"
   ]
  },
  {
   "cell_type": "code",
   "execution_count": 305,
   "metadata": {},
   "outputs": [
    {
     "data": {
      "text/plain": [
       "(2048, 4)"
      ]
     },
     "execution_count": 305,
     "metadata": {},
     "output_type": "execute_result"
    }
   ],
   "source": [
    "Xdiffs_total.shape"
   ]
  },
  {
   "cell_type": "code",
   "execution_count": 339,
   "metadata": {},
   "outputs": [
    {
     "data": {
      "text/plain": [
       "0.8931481028426101"
      ]
     },
     "execution_count": 339,
     "metadata": {},
     "output_type": "execute_result"
    }
   ],
   "source": [
    "custom_features=np.vstack([\n",
    "    Xdiffs_total[:,0]*Xdiffs_total[:,1],\n",
    "    Xdiffs_total[:,3],\n",
    "]).T\n",
    "\n",
    "optimizer=ps.STLSQ(threshold=0.0,alpha=0)\n",
    "\n",
    "fitted=optimizer.fit(custom_features,Ut_total)\n",
    "\n",
    "C=fitted.coef_[0]\n",
    "\n",
    "1-np.mean((custom_features@C-Ut_total)**2)/np.var(Ut_total)"
   ]
  },
  {
   "cell_type": "code",
   "execution_count": 342,
   "metadata": {},
   "outputs": [
    {
     "data": {
      "text/plain": [
       "4096.0"
      ]
     },
     "execution_count": 342,
     "metadata": {},
     "output_type": "execute_result"
    }
   ],
   "source": [
    "16384/4"
   ]
  },
  {
   "cell_type": "code",
   "execution_count": null,
   "metadata": {},
   "outputs": [],
   "source": []
  },
  {
   "cell_type": "code",
   "execution_count": 329,
   "metadata": {},
   "outputs": [
    {
     "data": {
      "text/plain": [
       "array([[-5.32144362e-17,  9.49794925e-04]])"
      ]
     },
     "execution_count": 329,
     "metadata": {},
     "output_type": "execute_result"
    }
   ],
   "source": [
    "C"
   ]
  }
 ],
 "metadata": {
  "kernelspec": {
   "display_name": "base",
   "language": "python",
   "name": "python3"
  },
  "language_info": {
   "codemirror_mode": {
    "name": "ipython",
    "version": 3
   },
   "file_extension": ".py",
   "mimetype": "text/x-python",
   "name": "python",
   "nbconvert_exporter": "python",
   "pygments_lexer": "ipython3",
   "version": "3.9.12"
  },
  "orig_nbformat": 4
 },
 "nbformat": 4,
 "nbformat_minor": 2
}
